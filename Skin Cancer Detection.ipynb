{
 "cells": [
  {
   "cell_type": "code",
   "execution_count": 1,
   "id": "09308610",
   "metadata": {},
   "outputs": [],
   "source": [
    "import pandas as pd\n",
    "import numpy as np\n",
    "import tensorflow as tf\n",
    "from tensorflow import keras\n",
    "import os\n",
    "import PIL\n",
    "import cv2\n",
    "from tensorflow.keras.layers import Dense, Input, Reshape, InputLayer, Flatten\n",
    "from tensorflow.keras.models import Sequential, Model\n",
    "from matplotlib import pyplot as plt\n",
    "import matplotlib.image as mpimg\n",
    "%matplotlib inline"
   ]
  },
  {
   "cell_type": "code",
   "execution_count": 2,
   "id": "1cd38566",
   "metadata": {},
   "outputs": [],
   "source": [
    "IMG_WIDTH = 200\n",
    "IMG_HEIGHT = 200\n",
    "img_folder = \"data\""
   ]
  },
  {
   "cell_type": "code",
   "execution_count": 3,
   "id": "1b249f3c",
   "metadata": {},
   "outputs": [
    {
     "data": {
      "text/plain": [
       "'data/train/benign/100.jpg'"
      ]
     },
     "execution_count": 3,
     "metadata": {},
     "output_type": "execute_result"
    }
   ],
   "source": [
    "test_img = \"data/train/benign/100.jpg\"\n",
    "img = mpimg.imread(test_img)"
   ]
  },
  {
   "cell_type": "code",
   "execution_count": null,
   "id": "c0c49b7c",
   "metadata": {},
   "outputs": [],
   "source": []
  }
 ],
 "metadata": {
  "kernelspec": {
   "display_name": "Python 3 (ipykernel)",
   "language": "python",
   "name": "python3"
  },
  "language_info": {
   "codemirror_mode": {
    "name": "ipython",
    "version": 3
   },
   "file_extension": ".py",
   "mimetype": "text/x-python",
   "name": "python",
   "nbconvert_exporter": "python",
   "pygments_lexer": "ipython3",
   "version": "3.10.6"
  }
 },
 "nbformat": 4,
 "nbformat_minor": 5
}
